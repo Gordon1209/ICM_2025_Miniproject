{
 "cells": [
  {
   "cell_type": "code",
   "execution_count": null,
   "id": "7680326d",
   "metadata": {},
   "outputs": [],
   "source": [
    "import numpy as np"
   ]
  },
  {
   "cell_type": "markdown",
   "id": "9709b96e",
   "metadata": {},
   "source": [
    "### Part 1\n",
    "Write a function cutoff(sigma, p)."
   ]
  }
 ],
 "metadata": {
  "language_info": {
   "name": "python"
  }
 },
 "nbformat": 4,
 "nbformat_minor": 5
}
