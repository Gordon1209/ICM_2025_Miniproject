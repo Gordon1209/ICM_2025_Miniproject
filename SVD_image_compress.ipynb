{
 "cells": [
  {
   "cell_type": "code",
   "execution_count": 14,
   "id": "7680326d",
   "metadata": {},
   "outputs": [],
   "source": [
    "import numpy as np\n",
    "import matplotlib.pyplot as plt"
   ]
  },
  {
   "cell_type": "markdown",
   "id": "9709b96e",
   "metadata": {},
   "source": [
    "### Part 1\n",
    "Write a function $\\mathtt{cutoff(sigma, p)}$. Here $\\mathtt{sigma}$ is a vector of $n$ singular values and $\\mathtt{p}$ is a number between $0$ and $1$.\n",
    "The value $\\mathtt{k}$ that is returned should be the smallest possible $k$ such that\n",
    "$$\n",
    "\\frac{\\sigma_{1}^{2} + \\dots + \\sigma_{k}^{2}}{\\sigma_{1}^{2} + \\dots + \\sigma_{n}^{2}}\\ge p^{2}.\n",
    "$$"
   ]
  },
  {
   "cell_type": "code",
   "execution_count": null,
   "id": "09662348",
   "metadata": {},
   "outputs": [],
   "source": [
    "def cutoff(sigma, p):\n",
    "    sigma_2     = sigma**2\n",
    "    total       = np.sum(sigma_2)\n",
    "    threshold   = total * p**2\n",
    "    print(threshold)\n",
    "\n",
    "    running_sum = 0\n",
    "    for k in range(len(sigma_2)):\n",
    "        running_sum += sigma_2[k]\n",
    "        if running_sum >= threshold:\n",
    "            return k\n",
    "    return len(sigma_2)"
   ]
  },
  {
   "cell_type": "markdown",
   "id": "312ba538",
   "metadata": {},
   "source": [
    "#### Part 2\n",
    "Write a function $\\mathtt{svdcompress(X,b,p)}$ that performs block SVD compression. $\\boldsymbol{X}$ is devided into nonoverlapping $b\\times b$ blocks. For example, the first block is $\\mathtt{X(0:b,0:b)}$. A block $\\boldsymbol{A}$ should have its SVD computed. The singular values and $p$ are passed to the $\\mathtt{cutoff}$ function to determine a value of $k$ for the block. The corresponding approximation $\\boldsymbol{A}_{k}$ will occupy the same position in $\\boldsymbol{Z}$ as $\\boldsymbol{A}$ does in $\\boldsymbol{X}$.\n",
    "\n",
    "The number of scalars needed to define $\\boldsymbol{A}_{k}$ is $k(2b+1)$. Therefore, if $k\\ge b/2$, you should use $\\boldsymbol{A}$ rather than $\\boldsymbol{A}_{k}$ in the output $\\boldsymbol{Z}$, as it will be more efficient. In addition, along the bottom and right edges of the image there may be blocks whose width or height is smaller than $b$. Those can be copied directly into the output $\\boldsymbol{Z}$.\n",
    "\n",
    "You also should keep a running total of the number of values needed to reconstruct $\\boldsymbol{Z}$ (that is, either $k(2b+1)$ or the number of elements in the block). At the end of the function, divide this total by the total number of elements in $\\boldsymbol{X}$ to get the output value $\\mathtt{ratio}$, which represents the compression ratio achieved. It should be no greater than one in all cases."
   ]
  }
 ],
 "metadata": {
  "kernelspec": {
   "display_name": "Python 3",
   "language": "python",
   "name": "python3"
  },
  "language_info": {
   "codemirror_mode": {
    "name": "ipython",
    "version": 3
   },
   "file_extension": ".py",
   "mimetype": "text/x-python",
   "name": "python",
   "nbconvert_exporter": "python",
   "pygments_lexer": "ipython3",
   "version": "3.12.1"
  }
 },
 "nbformat": 4,
 "nbformat_minor": 5
}
